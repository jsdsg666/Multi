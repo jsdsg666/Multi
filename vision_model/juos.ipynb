{
 "cells": [
  {
   "cell_type": "code",
   "execution_count": 5,
   "metadata": {
    "collapsed": true
   },
   "outputs": [],
   "source": [
    "import os"
   ]
  },
  {
   "cell_type": "code",
   "execution_count": 6,
   "outputs": [],
   "source": [
    "path='./data/Annotations'"
   ],
   "metadata": {
    "collapsed": false,
    "pycharm": {
     "name": "#%%\n"
    }
   }
  },
  {
   "cell_type": "code",
   "execution_count": 7,
   "outputs": [
    {
     "name": "stdout",
     "output_type": "stream",
     "text": [
      "['1.xml', '10.xml', '100.xml', '101 (1).xml', '101 (10).xml', '101 (100).xml', '101 (11).xml', '101 (12).xml', '101 (13).xml', '101 (14).xml', '101 (15).xml', '101 (16).xml', '101 (17).xml', '101 (18).xml', '101 (19).xml', '101 (2).xml', '101 (20).xml', '101 (21).xml', '101 (22).xml', '101 (23).xml', '101 (24).xml', '101 (25).xml', '101 (26).xml', '101 (27).xml', '101 (28).xml', '101 (29).xml', '101 (3).xml', '101 (30).xml', '101 (31).xml', '101 (32).xml', '101 (33).xml', '101 (34).xml', '101 (35).xml', '101 (36).xml', '101 (37).xml', '101 (38).xml', '101 (39).xml', '101 (4).xml', '101 (40).xml', '101 (41).xml', '101 (42).xml', '101 (43).xml', '101 (44).xml', '101 (45).xml', '101 (46).xml', '101 (47).xml', '101 (48).xml', '101 (49).xml', '101 (5).xml', '101 (50).xml', '101 (51).xml', '101 (52).xml', '101 (53).xml', '101 (54).xml', '101 (55).xml', '101 (56).xml', '101 (57).xml', '101 (58).xml', '101 (59).xml', '101 (6).xml', '101 (60).xml', '101 (61).xml', '101 (62).xml', '101 (63).xml', '101 (64).xml', '101 (65).xml', '101 (66).xml', '101 (67).xml', '101 (68).xml', '101 (69).xml', '101 (7).xml', '101 (70).xml', '101 (71).xml', '101 (72).xml', '101 (73).xml', '101 (74).xml', '101 (75).xml', '101 (76).xml', '101 (77).xml', '101 (78).xml', '101 (79).xml', '101 (8).xml', '101 (80).xml', '101 (81).xml', '101 (82).xml', '101 (83).xml', '101 (84).xml', '101 (85).xml', '101 (86).xml', '101 (87).xml', '101 (88).xml', '101 (89).xml', '101 (9).xml', '101 (90).xml', '101 (91).xml', '101 (92).xml', '101 (93).xml', '101 (94).xml', '101 (95).xml', '101 (96).xml', '101 (97).xml', '101 (98).xml', '101 (99).xml', '11.xml', '12.xml', '13.xml', '14.xml', '15.xml', '16.xml', '17.xml', '18.xml', '19.xml', '2.xml', '20.xml', '201 (1).xml', '201 (10).xml', '201 (100).xml', '201 (11).xml', '201 (12).xml', '201 (13).xml', '201 (14).xml', '201 (15).xml', '201 (16).xml', '201 (17).xml', '201 (18).xml', '201 (19).xml', '201 (2).xml', '201 (20).xml', '201 (21).xml', '201 (22).xml', '201 (23).xml', '201 (24).xml', '201 (25).xml', '201 (26).xml', '201 (27).xml', '201 (28).xml', '201 (29).xml', '201 (3).xml', '201 (30).xml', '201 (31).xml', '201 (32).xml', '201 (33).xml', '201 (34).xml', '201 (35).xml', '201 (36).xml', '201 (37).xml', '201 (38).xml', '201 (39).xml', '201 (4).xml', '201 (40).xml', '201 (41).xml', '201 (42).xml', '201 (43).xml', '201 (44).xml', '201 (45).xml', '201 (46).xml', '201 (47).xml', '201 (48).xml', '201 (49).xml', '201 (5).xml', '201 (50).xml', '201 (51).xml', '201 (52).xml', '201 (53).xml', '201 (54).xml', '201 (55).xml', '201 (56).xml', '201 (57).xml', '201 (58).xml', '201 (59).xml', '201 (6).xml', '201 (60).xml', '201 (61).xml', '201 (62).xml', '201 (63).xml', '201 (64).xml', '201 (65).xml', '201 (66).xml', '201 (67).xml', '201 (68).xml', '201 (69).xml', '201 (7).xml', '201 (70).xml', '201 (71).xml', '201 (72).xml', '201 (73).xml', '201 (74).xml', '201 (75).xml', '201 (76).xml', '201 (77).xml', '201 (78).xml', '201 (79).xml', '201 (8).xml', '201 (80).xml', '201 (81).xml', '201 (82).xml', '201 (83).xml', '201 (84).xml', '201 (85).xml', '201 (86).xml', '201 (87).xml', '201 (88).xml', '201 (89).xml', '201 (9).xml', '201 (90).xml', '201 (91).xml', '201 (92).xml', '201 (93).xml', '201 (94).xml', '201 (95).xml', '201 (96).xml', '201 (97).xml', '201 (98).xml', '201 (99).xml', '21.xml', '22.xml', '23.xml', '24.xml', '25.xml', '26.xml', '27.xml', '28.xml', '29.xml', '3.xml', '30.xml', '301 (1).xml', '301 (10).xml', '301 (100).xml', '301 (11).xml', '301 (12).xml', '301 (13).xml', '301 (14).xml', '301 (15).xml', '301 (16).xml', '301 (17).xml', '301 (18).xml', '301 (19).xml', '301 (2).xml', '301 (20).xml', '301 (21).xml', '301 (22).xml', '301 (23).xml', '301 (24).xml', '301 (25).xml', '301 (26).xml', '301 (27).xml', '301 (28).xml', '301 (29).xml', '301 (3).xml', '301 (30).xml', '301 (31).xml', '301 (32).xml', '301 (33).xml', '301 (34).xml', '301 (35).xml', '301 (36).xml', '301 (37).xml', '301 (38).xml', '301 (39).xml', '301 (4).xml', '301 (40).xml', '301 (41).xml', '301 (42).xml', '301 (43).xml', '301 (44).xml', '301 (45).xml', '301 (46).xml', '301 (47).xml', '301 (48).xml', '301 (49).xml', '301 (5).xml', '301 (50).xml', '301 (51).xml', '301 (52).xml', '301 (53).xml', '301 (54).xml', '301 (55).xml', '301 (56).xml', '301 (57).xml', '301 (58).xml', '301 (59).xml', '301 (6).xml', '301 (60).xml', '301 (61).xml', '301 (62).xml', '301 (63).xml', '301 (64).xml', '301 (65).xml', '301 (66).xml', '301 (67).xml', '301 (68).xml', '301 (69).xml', '301 (7).xml', '301 (70).xml', '301 (71).xml', '301 (72).xml', '301 (73).xml', '301 (74).xml', '301 (75).xml', '301 (76).xml', '301 (77).xml', '301 (78).xml', '301 (79).xml', '301 (8).xml', '301 (80).xml', '301 (81).xml', '301 (82).xml', '301 (83).xml', '301 (84).xml', '301 (85).xml', '301 (86).xml', '301 (87).xml', '301 (88).xml', '301 (89).xml', '301 (9).xml', '301 (90).xml', '301 (91).xml', '301 (92).xml', '301 (93).xml', '301 (94).xml', '301 (95).xml', '301 (96).xml', '301 (97).xml', '301 (98).xml', '301 (99).xml', '31.xml', '32.xml', '33.xml', '34.xml', '35.xml', '36.xml', '37.xml', '38.xml', '39.xml', '4.xml', '40.xml', '41.xml', '42.xml', '43.xml', '44.xml', '45.xml', '46.xml', '47.xml', '48.xml', '49.xml', '5.xml', '50.xml', '51.xml', '52.xml', '53.xml', '54.xml', '55.xml', '56.xml', '57.xml', '58.xml', '59.xml', '6.xml', '60.xml', '61.xml', '62.xml', '63.xml', '64.xml', '65.xml', '66.xml', '67.xml', '68.xml', '69.xml', '7.xml', '70.xml', '71.xml', '72.xml', '73.xml', '74.xml', '75.xml', '76.xml', '77.xml', '78.xml', '79.xml', '8.xml', '80.xml', '81.xml', '82.xml', '83.xml', '84.xml', '85.xml', '86.xml', '87.xml', '88.xml', '89.xml', '9.xml', '90.xml', '91.xml', '92.xml', '93.xml', '94.xml', '95.xml', '96.xml', '97.xml', '98.xml', '99.xml']\n"
     ]
    }
   ],
   "source": [
    "f=os.listdir(path)\n",
    "print(f)"
   ],
   "metadata": {
    "collapsed": false,
    "pycharm": {
     "name": "#%%\n"
    }
   }
  },
  {
   "cell_type": "code",
   "execution_count": 8,
   "outputs": [],
   "source": [
    "for i in f:\n",
    "    old_name=os.path.join(path,i)\n",
    "    # print(old_name)\n",
    "    new_name=old_name.replace(\"(\",'a')\n",
    "    new_name=new_name.replace(\")\",'a')\n",
    "    new_name=new_name.replace(\" \",'a')\n",
    "\n",
    "    # new_name=os.path.join(path,n)\n",
    "    os.rename(old_name,new_name)"
   ],
   "metadata": {
    "collapsed": false,
    "pycharm": {
     "name": "#%%\n"
    }
   }
  },
  {
   "cell_type": "code",
   "execution_count": 8,
   "outputs": [],
   "source": [],
   "metadata": {
    "collapsed": false,
    "pycharm": {
     "name": "#%%\n"
    }
   }
  }
 ],
 "metadata": {
  "kernelspec": {
   "display_name": "Python 3",
   "language": "python",
   "name": "python3"
  },
  "language_info": {
   "codemirror_mode": {
    "name": "ipython",
    "version": 2
   },
   "file_extension": ".py",
   "mimetype": "text/x-python",
   "name": "python",
   "nbconvert_exporter": "python",
   "pygments_lexer": "ipython2",
   "version": "2.7.6"
  }
 },
 "nbformat": 4,
 "nbformat_minor": 0
}